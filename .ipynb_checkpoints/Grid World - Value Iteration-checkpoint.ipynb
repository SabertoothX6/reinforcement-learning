{
 "cells": [
  {
   "cell_type": "markdown",
   "metadata": {},
   "source": [
    "# Value Iteration in a grid world"
   ]
  },
  {
   "cell_type": "markdown",
   "metadata": {},
   "source": [
    "### Import necessary libraries"
   ]
  },
  {
   "cell_type": "code",
   "execution_count": 1,
   "metadata": {
    "collapsed": true
   },
   "outputs": [],
   "source": [
    "import numpy as np\n",
    "import json"
   ]
  },
  {
   "cell_type": "markdown",
   "metadata": {},
   "source": [
    "### Set default parameters and initialize variables"
   ]
  },
  {
   "cell_type": "code",
   "execution_count": 2,
   "metadata": {
    "collapsed": true
   },
   "outputs": [],
   "source": [
    "size_x = 4\n",
    "size_y = 3\n",
    "world_print = [[0 for x in range(size_x)] for y in range(size_y)] \n",
    "world_access = [[0 for x in range(size_x)] for y in range(size_y)]  \n",
    "world_reward = [[0 for x in range(size_x)] for y in range(size_y)]"
   ]
  },
  {
   "cell_type": "markdown",
   "metadata": {},
   "source": [
    "### Import grid world information from JSON file"
   ]
  },
  {
   "cell_type": "code",
   "execution_count": 3,
   "metadata": {},
   "outputs": [
    {
     "name": "stdout",
     "output_type": "stream",
     "text": [
      "JSON file content\n",
      "{'world': [{'row': [{'cell': ['_', 0, 0]}, {'cell': ['_', 0, 0]}, {'cell': ['_', 0, 0]}, {'cell': ['G', 1, 1]}]}, {'row': [{'cell': ['_', 0, 0]}, {'cell': ['#', -1, 0]}, {'cell': ['_', 0, 0]}, {'cell': ['T', 1, -1]}]}, {'row': [{'cell': ['_', 0, 0]}, {'cell': ['_', 0, 0]}, {'cell': ['_', 0, 0]}, {'cell': ['_', 0, 0]}]}]}\n"
     ]
    }
   ],
   "source": [
    "def readJson():\n",
    "     \n",
    "    with open('world.json') as json_data:\n",
    "        d = json.load(json_data)\n",
    "        print(\"JSON file content\")\n",
    "        print(d)\n",
    "        return d\n",
    "       \n",
    "        \n",
    "json_data = readJson() "
   ]
  },
  {
   "cell_type": "markdown",
   "metadata": {},
   "source": [
    "### Distribute grid world information to corresponding variables"
   ]
  },
  {
   "cell_type": "code",
   "execution_count": 5,
   "metadata": {},
   "outputs": [
    {
     "name": "stdout",
     "output_type": "stream",
     "text": [
      "Printinginformation\n",
      "[['_', '_', '_', 'G'], ['_', '#', '_', 'T'], ['_', '_', '_', '_']]\n",
      "Accessibilityinformation\n",
      "[[0, 0, 0, 1], [0, -1, 0, 1], [0, 0, 0, 0]]\n",
      "Rewardinformation\n",
      "[[0, 0, 0, 1], [0, 0, 0, -1], [0, 0, 0, 0]]\n"
     ]
    }
   ],
   "source": [
    "def initializeWorld(json_data): \n",
    "    i = 0\n",
    "    for row in json_data['world']:\n",
    "        j = 0\n",
    "        for cell in row['row']:\n",
    "            world_print[i][j]= cell['cell'][0]\n",
    "            world_access[i][j]= cell['cell'][1]\n",
    "            world_reward[i][j]= cell['cell'][2]\n",
    "            j=j+1\n",
    "        i=i+1\n",
    "    print(\"Printinginformation\")\n",
    "    print(world_print)\n",
    "    print(\"Accessibilityinformation\")\n",
    "    print(world_access)\n",
    "    print(\"Rewardinformation\")\n",
    "    print(world_reward)\n",
    "    \n",
    "\n",
    "initializeWorld(json_data)"
   ]
  },
  {
   "cell_type": "code",
   "execution_count": null,
   "metadata": {
    "collapsed": true
   },
   "outputs": [],
   "source": []
  }
 ],
 "metadata": {
  "kernelspec": {
   "display_name": "Python 3",
   "language": "python",
   "name": "python3"
  },
  "language_info": {
   "codemirror_mode": {
    "name": "ipython",
    "version": 3
   },
   "file_extension": ".py",
   "mimetype": "text/x-python",
   "name": "python",
   "nbconvert_exporter": "python",
   "pygments_lexer": "ipython3",
   "version": "3.6.2"
  }
 },
 "nbformat": 4,
 "nbformat_minor": 2
}
