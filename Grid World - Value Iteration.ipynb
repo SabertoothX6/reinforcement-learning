{
 "cells": [
  {
   "cell_type": "markdown",
   "metadata": {},
   "source": [
    "# Value Iteration in a grid world"
   ]
  },
  {
   "cell_type": "markdown",
   "metadata": {},
   "source": [
    "### Import necessary libraries"
   ]
  },
  {
   "cell_type": "code",
   "execution_count": 1,
   "metadata": {
    "collapsed": true
   },
   "outputs": [],
   "source": [
    "import numpy as np\n",
    "import json"
   ]
  },
  {
   "cell_type": "markdown",
   "metadata": {},
   "source": [
    "### Set default parameters and initialize variables"
   ]
  },
  {
   "cell_type": "code",
   "execution_count": 2,
   "metadata": {
    "collapsed": true
   },
   "outputs": [],
   "source": [
    "size_x = 4\n",
    "size_y = 3\n",
    "step_cost = -0.04\n",
    "gamma = 0.5\n",
    "prob_success = 0.8\n",
    "prob_fail = (1 - prob_success) / 2\n",
    "world_print = [[0 for x in range(size_x)] for y in range(size_y)] \n",
    "world_access = [[0 for x in range(size_x)] for y in range(size_y)]  \n",
    "world_reward = [[0 for x in range(size_x)] for y in range(size_y)]"
   ]
  },
  {
   "cell_type": "markdown",
   "metadata": {},
   "source": [
    "### Import grid world information from JSON file"
   ]
  },
  {
   "cell_type": "code",
   "execution_count": 3,
   "metadata": {},
   "outputs": [
    {
     "name": "stdout",
     "output_type": "stream",
     "text": [
      "JSON file content\n",
      "{u'world': [{u'row': [{u'cell': [u'_', 0, 0]}, {u'cell': [u'_', 0, 0]}, {u'cell': [u'_', 0, 0]}, {u'cell': [u'G', 1, 1]}]}, {u'row': [{u'cell': [u'_', 0, 0]}, {u'cell': [u'#', -1, 0]}, {u'cell': [u'_', 0, 0]}, {u'cell': [u'T', 1, -1]}]}, {u'row': [{u'cell': [u'_', 0, 0]}, {u'cell': [u'_', 0, 0]}, {u'cell': [u'_', 0, 0]}, {u'cell': [u'_', 0, 0]}]}]}\n"
     ]
    }
   ],
   "source": [
    "def readJson():\n",
    "     \n",
    "    with open('world.json') as json_data:\n",
    "        d = json.load(json_data)\n",
    "        print(\"JSON file content\")\n",
    "        print(d)\n",
    "        return d\n",
    "       \n",
    "        \n",
    "json_data = readJson() "
   ]
  },
  {
   "cell_type": "markdown",
   "metadata": {},
   "source": [
    "### Distribute grid world information to corresponding variables"
   ]
  },
  {
   "cell_type": "code",
   "execution_count": 4,
   "metadata": {},
   "outputs": [
    {
     "name": "stdout",
     "output_type": "stream",
     "text": [
      "Printinginformation\n",
      "[[u'_', u'_', u'_', u'G'], [u'_', u'#', u'_', u'T'], [u'_', u'_', u'_', u'_']]\n",
      "Accessibilityinformation\n",
      "[[0, 0, 0, 1], [0, -1, 0, 1], [0, 0, 0, 0]]\n",
      "Rewardinformation\n",
      "[[0, 0, 0, 1], [0, 0, 0, -1], [0, 0, 0, 0]]\n"
     ]
    }
   ],
   "source": [
    "def initializeWorld(json_data): \n",
    "    i = 0\n",
    "    for row in json_data['world']:\n",
    "        j = 0\n",
    "        for cell in row['row']:\n",
    "            world_print[i][j]= cell['cell'][0]\n",
    "            world_access[i][j]= cell['cell'][1]\n",
    "            world_reward[i][j]= cell['cell'][2]\n",
    "            j=j+1\n",
    "        i=i+1\n",
    "    print(\"Printinginformation\")\n",
    "    print(world_print)\n",
    "    print(\"Accessibilityinformation\")\n",
    "    print(world_access)\n",
    "    print(\"Rewardinformation\")\n",
    "    print(world_reward)\n",
    "    \n",
    "\n",
    "initializeWorld(json_data)"
   ]
  },
  {
   "cell_type": "code",
   "execution_count": null,
   "metadata": {
    "collapsed": true
   },
   "outputs": [],
   "source": []
  },
  {
   "cell_type": "code",
   "execution_count": null,
   "metadata": {
    "collapsed": true
   },
   "outputs": [],
   "source": [
    "def up(x_coord, y_coord):\n",
    "    if(y_coord == 0 or world_access[x_coor][y_coord - 1] < 0):\n",
    "        return world_reward[x_coord][y_coord]\n",
    "    return world_reward[x_coord][y_coord -1]\n",
    "    "
   ]
  },
  {
   "cell_type": "code",
   "execution_count": null,
   "metadata": {
    "collapsed": true
   },
   "outputs": [],
   "source": [
    "def down(x_coord, y_coord):\n",
    "    if(y_coord == size_y - 1 or world_access[x_coor][y_coord + 1] < 0):\n",
    "        return world_reward[x_coord][y_coord]\n",
    "    return world_reward[x_coord][y_coord + 1]\n",
    "\n",
    "\n",
    "def left(x_coord, y_coord):\n",
    "    if(x_coord == 0 or world_access[x_coor - 1][y_coord ] < 0):\n",
    "        return world_reward[x_coord][y_coord]\n",
    "    return world_reward[x_coord - 1][y_coord]\n",
    "\n",
    "\n",
    "def right(x_coord, y_coord):\n",
    "    if(x_coord == size_x - 1 or world_access[x_coor + 1][y_coord] < 0):\n",
    "        return world_reward[x_coord][y_coord ]\n",
    "    return world_reward[x_coord + 1][y_coord]"
   ]
  },
  {
   "cell_type": "code",
   "execution_count": null,
   "metadata": {
    "collapsed": true
   },
   "outputs": [],
   "source": []
  },
  {
   "cell_type": "code",
   "execution_count": null,
   "metadata": {
    "collapsed": true
   },
   "outputs": [],
   "source": [
    "\n",
    "    "
   ]
  },
  {
   "cell_type": "code",
   "execution_count": null,
   "metadata": {
    "collapsed": true
   },
   "outputs": [],
   "source": [
    "def calcStep():\n",
    "    world_reward_new = world_reward\n",
    "    rew=[4]\n",
    "    for i in world_reward_new:\n",
    "        for j in world_reward_new[i]:\n",
    "            rew[0] = prob_success * up(i,j) + prob_fail * left(i,j) + prob_fail * right(i,j)\n",
    "            rew[1] = prob_success * left(i,j) + prob_fail * up(i,j) + prob_fail * down(i,j)\n",
    "            rew[2] = prob_success * down(i,j) + prob_fail * left(i,j) + prob_fail * right(i,j)\n",
    "            rew[3] = prob_success * right(i,j) + prob_fail * up(i,j) + prob_fail * down(i,j)\n",
    "            world_reward_new[i][j] = step_cost + gamma * max(rew)\n",
    "    world_reward = world_reward_new"
   ]
  }
 ],
 "metadata": {
  "kernelspec": {
   "display_name": "Python 2",
   "language": "python",
   "name": "python2"
  },
  "language_info": {
   "codemirror_mode": {
    "name": "ipython",
    "version": 2
   },
   "file_extension": ".py",
   "mimetype": "text/x-python",
   "name": "python",
   "nbconvert_exporter": "python",
   "pygments_lexer": "ipython2",
   "version": "2.7.14"
  }
 },
 "nbformat": 4,
 "nbformat_minor": 2
}
